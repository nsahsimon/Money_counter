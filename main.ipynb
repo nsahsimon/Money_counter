{
 "cells": [
  {
   "cell_type": "code",
   "execution_count": 1,
   "id": "4d01d8f8",
   "metadata": {},
   "outputs": [
    {
     "name": "stdout",
     "output_type": "stream",
     "text": [
      "WARNING:tensorflow:No training configuration found in the save file, so the model was *not* compiled. Compile it manually.\n"
     ]
    }
   ],
   "source": [
    "from keras.models import load_model\n",
    "from PIL import Image, ImageOps\n",
    "import numpy as np\n",
    "import cv2\n",
    "import glob\n",
    "import os\n",
    "from keras.preprocessing.image import ImageDataGenerator, array_to_img, img_to_array, load_img\n",
    "\n",
    "\n",
    "# Load the model\n",
    "model = load_model('model/best_coin_recognition_model.h5')"
   ]
  },
  {
   "cell_type": "code",
   "execution_count": 8,
   "id": "31c645c0",
   "metadata": {},
   "outputs": [
    {
     "name": "stdout",
     "output_type": "stream",
     "text": [
      "[[[ 460.84998   819.64996   101.27    ]\n",
      "  [ 633.75     1090.0499    113.49    ]\n",
      "  [ 165.75     1000.35      106.729996]\n",
      "  [ 424.44998  1304.5499     96.590004]\n",
      "  [ 766.35      775.44995   104.52    ]]]\n"
     ]
    }
   ],
   "source": [
    "# Prepare the image\n",
    "imageOriginal = cv2.imread('data/test_images/4.jpg')\n",
    "imageOriginal = cv2.resize(imageOriginal,(0,0), fx = 0.5, fy = 0.5)\n",
    "image = imageOriginal.copy()\n",
    "cv2.namedWindow(\"Initial\", cv2.WINDOW_NORMAL)\n",
    "cv2.imshow(\"Initial\", image)\n",
    "cv2.waitKey(0)\n",
    "cv2.destroyAllWindows()\n",
    "image = cv2.GaussianBlur(image, (75, 75),1)\n",
    "imgPaths = []\n",
    "\n",
    "# Finding circles in the image\n",
    "imageGray = cv2.cvtColor(image, cv2.COLOR_BGR2GRAY)\n",
    "circles = cv2.HoughCircles(imageGray, cv2.HOUGH_GRADIENT,1.3,200)\n",
    "selectedCircles = []\n",
    "print(circles)\n",
    "i = 0\n",
    "if circles is not None:\n",
    "    # Get the (x, y, r) as integers\n",
    "    circles = np.round(circles[0, :]).astype(\"int\")\n",
    "    for (x , y, r) in circles:\n",
    "        i += 1\n",
    "        if r < y and r < x:\n",
    "            offset = r\n",
    "            coinImage = image[y - offset: y + offset , x - offset : x + offset]\n",
    "            coinOriginalImage = image[y - offset: y + offset , x - offset : x + offset]\n",
    "            coinImage = cv2.resize(coinImage, (224,224))\n",
    "            cv2.imwrite(f'temp_images/_{i}.jpg', coinImage)\n",
    "            #cv2.imwrite(f'data/test_images/noise/_{i}.jpg', coinImage)\n",
    "            imgPaths.append((f'temp_images/_{i}.jpg',(x, y, r)))"
   ]
  },
  {
   "cell_type": "code",
   "execution_count": 9,
   "id": "587e4300",
   "metadata": {
    "scrolled": true
   },
   "outputs": [
    {
     "name": "stdout",
     "output_type": "stream",
     "text": [
      "1:100\n",
      "2:25\n",
      "3:25\n",
      "4:50\n",
      "5:100\n"
     ]
    }
   ],
   "source": [
    "# Create the array of the right shape to feed into the keras model\n",
    "# The 'length' or number of images you can put into the array is\n",
    "# determined by the first position in the shape tuple, in this case 1.\n",
    "data = np.ndarray(shape=(1, 224, 224, 3), dtype=np.float32)\n",
    "\n",
    "classes = [25, 500, 0, 25,50,100]\n",
    "# classes = [25, 25, 500, 25,100]\n",
    "detectedCoinData = []\n",
    "count = 0\n",
    "for imgPath in imgPaths:\n",
    "    count += 1\n",
    "    image = Image.open(imgPath[0])\n",
    "    #resize the image to a 224x224 with the same strategy as in TM2:\n",
    "    #resizing the image to be at least 224x224 and then cropping from the center\n",
    "    size = (224, 224)\n",
    "    image = ImageOps.fit(image, size, Image.ANTIALIAS)\n",
    "\n",
    "    #turn the image into a numpy array\n",
    "    image_array = np.asarray(image)\n",
    "    # Normalize the image\n",
    "    normalized_image_array = (image_array.astype(np.float32) / 127.0) - 1\n",
    "    # Load the image into the array\n",
    "    data[0] = normalized_image_array\n",
    "    cvImage = cv2.imread(imgPath[0])\n",
    "    # run the inference\n",
    "    prediction = model.predict(data)\n",
    "    value = classes[np.argmax(prediction)]\n",
    "    if(value != 0):\n",
    "        detectedCoinData.append((cvImage, imgPath[1], value))\n",
    "    # cv2.imshow(f'{count}: {value} ', cvImage)\n",
    "    print(f'{count}:{classes[np.argmax(prediction)]}')\n",
    "    \n",
    "# cv2.waitKey(0)\n"
   ]
  },
  {
   "cell_type": "code",
   "execution_count": 10,
   "id": "204ff999",
   "metadata": {
    "scrolled": true
   },
   "outputs": [
    {
     "name": "stdout",
     "output_type": "stream",
     "text": [
      "Total: 300 FCFA\n"
     ]
    }
   ],
   "source": [
    "# displaying the result\n",
    "count25 = 0\n",
    "count50 = 0\n",
    "count100 = 0\n",
    "count500 = 0\n",
    "total = 0\n",
    "for coin in detectedCoinData:\n",
    "    r = coin[1][2]\n",
    "    x = coin[1][0]\n",
    "    y = coin[1][1]\n",
    "    value = coin[2]\n",
    "    if value == 25:\n",
    "        count25 += 1\n",
    "    if value == 50:\n",
    "        count50 += 1\n",
    "    if value == 100:\n",
    "        count100 += 1\n",
    "    if value == 500:\n",
    "        count500 += 1\n",
    "    cv2.rectangle(imageOriginal, (x - r, y - r), (x + r, y + r), (0, 255, 0),15)\n",
    "    cv2.putText(imageOriginal, f'{value}', (x,y - r),fontFace=cv2.FONT_HERSHEY_SIMPLEX , fontScale=2 ,color=(0,0,255), thickness = 5)\n",
    "    total += value\n",
    "    \n",
    "    \n",
    "print(f'Total: {total} FCFA')\n",
    "windowName = f'Total: {total} FCFA -- {count25} x 25, {count50} x 50, {count100} x 100, {count500} x 500 '\n",
    "cv2.namedWindow(windowName, cv2.WINDOW_NORMAL)\n",
    "cv2.imshow(windowName, imageOriginal)\n",
    "cv2.waitKey(0)\n",
    "cv2.destroyAllWindows()"
   ]
  },
  {
   "cell_type": "code",
   "execution_count": null,
   "id": "347df882",
   "metadata": {},
   "outputs": [],
   "source": []
  }
 ],
 "metadata": {
  "kernelspec": {
   "display_name": "Python 3",
   "language": "python",
   "name": "python3"
  },
  "language_info": {
   "codemirror_mode": {
    "name": "ipython",
    "version": 3
   },
   "file_extension": ".py",
   "mimetype": "text/x-python",
   "name": "python",
   "nbconvert_exporter": "python",
   "pygments_lexer": "ipython3",
   "version": "3.7.9"
  }
 },
 "nbformat": 4,
 "nbformat_minor": 5
}
