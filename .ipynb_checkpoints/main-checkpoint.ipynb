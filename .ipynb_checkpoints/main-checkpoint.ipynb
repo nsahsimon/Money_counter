{
 "cells": [
  {
   "cell_type": "code",
   "execution_count": 1,
   "id": "4d01d8f8",
   "metadata": {},
   "outputs": [
    {
     "name": "stdout",
     "output_type": "stream",
     "text": [
      "WARNING:tensorflow:No training configuration found in the save file, so the model was *not* compiled. Compile it manually.\n"
     ]
    }
   ],
   "source": [
    "from keras.models import load_model\n",
    "from PIL import Image, ImageOps\n",
    "import numpy as np\n",
    "import cv2\n",
    "import glob\n",
    "import os\n",
    "from keras.preprocessing.image import ImageDataGenerator, array_to_img, img_to_array, load_img\n",
    "\n",
    "\n",
    "# Load the model\n",
    "model = load_model('model/best_coin_recognition_model.h5')"
   ]
  },
  {
   "cell_type": "code",
   "execution_count": 2,
   "id": "31c645c0",
   "metadata": {},
   "outputs": [
    {
     "name": "stdout",
     "output_type": "stream",
     "text": [
      "[[[373.75     408.84998  116.60999 ]\n",
      "  [991.24994  337.34998  109.07    ]\n",
      "  [996.44995  935.35     107.899994]\n",
      "  [469.94998  943.14996  106.99    ]\n",
      "  [681.85     839.14996  265.46    ]]]\n"
     ]
    }
   ],
   "source": [
    "# Prepare the image\n",
    "imageOriginal = cv2.imread('data/test_images/8.jpg')\n",
    "imageOriginal = cv2.resize(imageOriginal,(0,0), fx = 0.5, fy = 0.5)\n",
    "image = imageOriginal.copy()\n",
    "cv2.namedWindow(\"image\", cv2.WINDOW_NORMAL)\n",
    "cv2.imshow(\"image\", image)\n",
    "cv2.waitKey(0)\n",
    "cv2.destroyAllWindows()\n",
    "image = cv2.GaussianBlur(image, (75, 75),1)\n",
    "imgPaths = []\n",
    "\n",
    "# Finding circles in the image\n",
    "imageGray = cv2.cvtColor(image, cv2.COLOR_BGR2GRAY)\n",
    "circles = cv2.HoughCircles(imageGray, cv2.HOUGH_GRADIENT,1.3,200)\n",
    "selectedCircles = []\n",
    "print(circles)\n",
    "i = 0\n",
    "if circles is not None:\n",
    "    # Get the (x, y, r) as integers\n",
    "    circles = np.round(circles[0, :]).astype(\"int\")\n",
    "    for (x , y, r) in circles:\n",
    "        i += 1\n",
    "        if r < y and r < x:\n",
    "            offset = r\n",
    "            coinImage = image[y - offset: y + offset , x - offset : x + offset]\n",
    "            coinOriginalImage = image[y - offset: y + offset , x - offset : x + offset]\n",
    "            coinImage = cv2.resize(coinImage, (224,224))\n",
    "            cv2.imwrite(f'test_images/_{i}.jpg', coinImage)\n",
    "            cv2.imwrite(f'data/test_images/noise/_{i}.jpg', coinImage)\n",
    "            imgPaths.append((f'test_images/_{i}.jpg',(x, y, r)))"
   ]
  },
  {
   "cell_type": "code",
   "execution_count": 3,
   "id": "587e4300",
   "metadata": {
    "scrolled": true
   },
   "outputs": [
    {
     "ename": "FileNotFoundError",
     "evalue": "[Errno 2] No such file or directory: 'test_images/_1.jpg'",
     "output_type": "error",
     "traceback": [
      "\u001b[1;31m---------------------------------------------------------------------------\u001b[0m",
      "\u001b[1;31mFileNotFoundError\u001b[0m                         Traceback (most recent call last)",
      "\u001b[1;32m<ipython-input-3-c3a052e8738d>\u001b[0m in \u001b[0;36m<module>\u001b[1;34m\u001b[0m\n\u001b[0;32m     10\u001b[0m \u001b[1;32mfor\u001b[0m \u001b[0mimgPath\u001b[0m \u001b[1;32min\u001b[0m \u001b[0mimgPaths\u001b[0m\u001b[1;33m:\u001b[0m\u001b[1;33m\u001b[0m\u001b[1;33m\u001b[0m\u001b[0m\n\u001b[0;32m     11\u001b[0m     \u001b[0mcount\u001b[0m \u001b[1;33m+=\u001b[0m \u001b[1;36m1\u001b[0m\u001b[1;33m\u001b[0m\u001b[1;33m\u001b[0m\u001b[0m\n\u001b[1;32m---> 12\u001b[1;33m     \u001b[0mimage\u001b[0m \u001b[1;33m=\u001b[0m \u001b[0mImage\u001b[0m\u001b[1;33m.\u001b[0m\u001b[0mopen\u001b[0m\u001b[1;33m(\u001b[0m\u001b[0mimgPath\u001b[0m\u001b[1;33m[\u001b[0m\u001b[1;36m0\u001b[0m\u001b[1;33m]\u001b[0m\u001b[1;33m)\u001b[0m\u001b[1;33m\u001b[0m\u001b[1;33m\u001b[0m\u001b[0m\n\u001b[0m\u001b[0;32m     13\u001b[0m     \u001b[1;31m#resize the image to a 224x224 with the same strategy as in TM2:\u001b[0m\u001b[1;33m\u001b[0m\u001b[1;33m\u001b[0m\u001b[1;33m\u001b[0m\u001b[0m\n\u001b[0;32m     14\u001b[0m     \u001b[1;31m#resizing the image to be at least 224x224 and then cropping from the center\u001b[0m\u001b[1;33m\u001b[0m\u001b[1;33m\u001b[0m\u001b[1;33m\u001b[0m\u001b[0m\n",
      "\u001b[1;32m~\\AppData\\Roaming\\Python\\Python37\\site-packages\\PIL\\Image.py\u001b[0m in \u001b[0;36mopen\u001b[1;34m(fp, mode, formats)\u001b[0m\n\u001b[0;32m   2910\u001b[0m \u001b[1;33m\u001b[0m\u001b[0m\n\u001b[0;32m   2911\u001b[0m     \u001b[1;32mif\u001b[0m \u001b[0mfilename\u001b[0m\u001b[1;33m:\u001b[0m\u001b[1;33m\u001b[0m\u001b[1;33m\u001b[0m\u001b[0m\n\u001b[1;32m-> 2912\u001b[1;33m         \u001b[0mfp\u001b[0m \u001b[1;33m=\u001b[0m \u001b[0mbuiltins\u001b[0m\u001b[1;33m.\u001b[0m\u001b[0mopen\u001b[0m\u001b[1;33m(\u001b[0m\u001b[0mfilename\u001b[0m\u001b[1;33m,\u001b[0m \u001b[1;34m\"rb\"\u001b[0m\u001b[1;33m)\u001b[0m\u001b[1;33m\u001b[0m\u001b[1;33m\u001b[0m\u001b[0m\n\u001b[0m\u001b[0;32m   2913\u001b[0m         \u001b[0mexclusive_fp\u001b[0m \u001b[1;33m=\u001b[0m \u001b[1;32mTrue\u001b[0m\u001b[1;33m\u001b[0m\u001b[1;33m\u001b[0m\u001b[0m\n\u001b[0;32m   2914\u001b[0m \u001b[1;33m\u001b[0m\u001b[0m\n",
      "\u001b[1;31mFileNotFoundError\u001b[0m: [Errno 2] No such file or directory: 'test_images/_1.jpg'"
     ]
    }
   ],
   "source": [
    "# Create the array of the right shape to feed into the keras model\n",
    "# The 'length' or number of images you can put into the array is\n",
    "# determined by the first position in the shape tuple, in this case 1.\n",
    "data = np.ndarray(shape=(1, 224, 224, 3), dtype=np.float32)\n",
    "\n",
    "classes = [25, 500, 0, 25,50,100]\n",
    "# classes = [25, 25, 500, 25,100]\n",
    "detectedCoinData = []\n",
    "count = 0\n",
    "for imgPath in imgPaths:\n",
    "    count += 1\n",
    "    image = Image.open(imgPath[0])\n",
    "    #resize the image to a 224x224 with the same strategy as in TM2:\n",
    "    #resizing the image to be at least 224x224 and then cropping from the center\n",
    "    size = (224, 224)\n",
    "    image = ImageOps.fit(image, size, Image.ANTIALIAS)\n",
    "\n",
    "    #turn the image into a numpy array\n",
    "    image_array = np.asarray(image)\n",
    "    # Normalize the image\n",
    "    normalized_image_array = (image_array.astype(np.float32) / 127.0) - 1\n",
    "    # Load the image into the array\n",
    "    data[0] = normalized_image_array\n",
    "    cvImage = cv2.imread(imgPath[0])\n",
    "    # run the inference\n",
    "    prediction = model.predict(data)\n",
    "    value = classes[np.argmax(prediction)]\n",
    "    if(value != 0):\n",
    "        detectedCoinData.append((cvImage, imgPath[1], value))\n",
    "    cv2.imshow(f'{count}: {value} ', cvImage)\n",
    "    print(f'{count}:{classes[np.argmax(prediction)]}')\n",
    "    \n",
    "cv2.waitKey(0)\n"
   ]
  },
  {
   "cell_type": "code",
   "execution_count": null,
   "id": "204ff999",
   "metadata": {
    "scrolled": true
   },
   "outputs": [],
   "source": [
    "# displaying the result\n",
    "total = 0\n",
    "for coin in detectedCoinData:\n",
    "    r = coin[1][2]\n",
    "    x = coin[1][0]\n",
    "    y = coin[1][1]\n",
    "    value = coin[2]\n",
    "    cv2.rectangle(imageOriginal, (x - r, y - r), (x + r, y + r), (0, 255, 0),15)\n",
    "    #cv2.putText(imageOriginal, f'{value}', (x,y),fontFace= , fonScale=10 ,color=(0, 255, 0))\n",
    "    total += value\n",
    "\n",
    "print(f'Total: {total} FCFA')\n",
    "cv2.namedWindow(\"image\", cv2.WINDOW_NORMAL)\n",
    "cv2.imshow('image', imageOriginal)\n",
    "cv2.waitKey(0)\n",
    "cv2.destroyAllWindows()"
   ]
  },
  {
   "cell_type": "code",
   "execution_count": null,
   "id": "347df882",
   "metadata": {},
   "outputs": [],
   "source": []
  }
 ],
 "metadata": {
  "kernelspec": {
   "display_name": "Python 3",
   "language": "python",
   "name": "python3"
  },
  "language_info": {
   "codemirror_mode": {
    "name": "ipython",
    "version": 3
   },
   "file_extension": ".py",
   "mimetype": "text/x-python",
   "name": "python",
   "nbconvert_exporter": "python",
   "pygments_lexer": "ipython3",
   "version": "3.7.9"
  }
 },
 "nbformat": 4,
 "nbformat_minor": 5
}
